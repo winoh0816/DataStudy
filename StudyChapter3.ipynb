{
  "cells": [
    {
      "cell_type": "markdown",
      "metadata": {
        "colab_type": "text",
        "id": "view-in-github"
      },
      "source": [
        "<a href=\"https://colab.research.google.com/github/books-by-chansung/ds-bookcamp/blob/main/notebooks/ds_bookcamp_03.ipynb\" target=\"_parent\"><img src=\"https://colab.research.google.com/assets/colab-badge.svg\" alt=\"Open In Colab\"/></a>"
      ]
    },
    {
      "cell_type": "markdown",
      "metadata": {},
      "source": [
        "# Chpater 3 넘파이로 무작위 시뮬레이션 수행하기"
      ]
    },
    {
      "cell_type": "markdown",
      "metadata": {},
      "source": [
        "## 넘파이로 무작위 동전 뒺딥기와 주사위 던지기 시뮬레이션하기"
      ]
    },
    {
      "cell_type": "markdown",
      "metadata": {
        "id": "WJ0C9-5bgTz0"
      },
      "source": [
        "## 3-1"
      ]
    },
    {
      "cell_type": "code",
      "execution_count": 110,
      "metadata": {},
      "outputs": [],
      "source": [
        "import matplotlib.pyplot as plt\n",
        "from matplotlib import rc\n",
        "\n",
        "# 한글 폰트를 설정\n",
        "rc('font', family='Malgun Gothic')  # 또는 'Malgun Gothic', 'AppleGothic' 등"
      ]
    },
    {
      "cell_type": "code",
      "execution_count": 111,
      "metadata": {
        "id": "XbzaPhmlgOnW"
      },
      "outputs": [],
      "source": [
        "import numpy as np"
      ]
    },
    {
      "cell_type": "markdown",
      "metadata": {
        "id": "td5jCe_abdXH"
      },
      "source": [
        "## 3-2"
      ]
    },
    {
      "cell_type": "code",
      "execution_count": 112,
      "metadata": {
        "id": "2nSj8tuegYH9"
      },
      "outputs": [],
      "source": [
        "die_roll = np.random.randint(1, 7)\n",
        "assert 1 <= die_roll <= 6"
      ]
    },
    {
      "cell_type": "markdown",
      "metadata": {
        "id": "HzUvy1_sbf7K"
      },
      "source": [
        "## 3-3"
      ]
    },
    {
      "cell_type": "code",
      "execution_count": 113,
      "metadata": {
        "id": "SPjsZJC8gZwX"
      },
      "outputs": [],
      "source": [
        "np.random.seed(0)\n",
        "die_rolls = [np.random.randint(1, 7) for _ in range(3)]\n",
        "assert die_rolls == [5, 6, 1]"
      ]
    },
    {
      "cell_type": "markdown",
      "metadata": {
        "id": "iOyMLBzibhIy"
      },
      "source": [
        "## 3-4"
      ]
    },
    {
      "cell_type": "code",
      "execution_count": 114,
      "metadata": {
        "colab": {
          "base_uri": "https://localhost:8080/"
        },
        "id": "VNXhsuU5gbVY",
        "outputId": "c8d2b96f-070a-426d-bc15-b01bc8851a43"
      },
      "outputs": [
        {
          "name": "stdout",
          "output_type": "stream",
          "text": [
            "동전은 뒷면 으로 떨어졌습니다.\n"
          ]
        }
      ],
      "source": [
        "np.random.seed(0)\n",
        "coin_flip = np.random.randint(0, 2)\n",
        "print(f\"동전은 {'앞면' if coin_flip == 1 else '뒷면'} 으로 떨어졌습니다.\")"
      ]
    },
    {
      "cell_type": "markdown",
      "metadata": {
        "id": "l_ZBU1XEbiBU"
      },
      "source": [
        "## 3-5"
      ]
    },
    {
      "cell_type": "code",
      "execution_count": 115,
      "metadata": {
        "colab": {
          "base_uri": "https://localhost:8080/"
        },
        "id": "lLIbqLBVgdac",
        "outputId": "5050d26d-2252-4a8a-d5b0-6ab6d25a44b2"
      },
      "outputs": [
        {
          "name": "stdout",
          "output_type": "stream",
          "text": [
            "동전 앞면이 관측된 빈도는 0.8 입니다\n"
          ]
        }
      ],
      "source": [
        "np.random.seed(0)\n",
        "def frequency_heads(coin_flip_sequence):\n",
        "  total_heads = len([head for head in coin_flip_sequence if head == 1])\n",
        "  return total_heads / len(coin_flip_sequence)\n",
        "\n",
        "coin_flips = [np.random.randint(0, 2) for _ in range(10)]\n",
        "freq_heads = frequency_heads(coin_flips)\n",
        "print(f\"동전 앞면이 관측된 빈도는 {freq_heads} 입니다\")\n"
      ]
    },
    {
      "cell_type": "markdown",
      "metadata": {
        "id": "IemYl66Rbjh7"
      },
      "source": [
        "## 3-6"
      ]
    },
    {
      "cell_type": "code",
      "execution_count": 116,
      "metadata": {
        "colab": {
          "base_uri": "https://localhost:8080/",
          "height": 473
        },
        "id": "OlQQu2YJgh81",
        "outputId": "c92b2890-ee39-42fc-8fa6-6a92f123fbfb"
      },
      "outputs": [
        {
          "data": {
            "image/png": "[encoded data removed]",
            "text/plain": [
              "<Figure size 640x480 with 1 Axes>"
            ]
          },
          "metadata": {},
          "output_type": "display_data"
        }
      ],
      "source": [
        "np.random.seed(0)\n",
        "coin_flips = []\n",
        "frequencies = []\n",
        "for _ in range(1000):\n",
        "  coin_flips.append(np.random.randint(0, 2))\n",
        "  frequencies.append(frequency_heads(coin_flips))\n",
        "\n",
        "plt.plot(list(range(1000)), frequencies)\n",
        "plt.axhline(0.5, color='k')\n",
        "plt.xlabel('시행된 동전 뒤집기 횟수')\n",
        "plt.ylabel('앞면이 관측된 빈도')\n",
        "plt.show()"
      ]
    },
    {
      "cell_type": "markdown",
      "metadata": {
        "id": "bCHmZ3rJbl_u"
      },
      "source": [
        "## 3-7"
      ]
    },
    {
      "cell_type": "code",
      "execution_count": 117,
      "metadata": {
        "colab": {
          "base_uri": "https://localhost:8080/"
        },
        "id": "gqp-IWPjgndU",
        "outputId": "e2bcb435-d7d3-4ecf-a629-4d4c6508f60e"
      },
      "outputs": [
        {
          "name": "stdout",
          "output_type": "stream",
          "text": [
            "동전을 한 번 뒤집어봅니다.\n",
            "편향된 동전은 앞면으로 떨어졌습니다.\n",
            "\n",
            "동전을 열 번 뒤집어봅니다.\n",
            "10번의 편향된 동전 뒤집기 중 앞면은 6번 관측되었습니다.\n"
          ]
        }
      ],
      "source": [
        "np.random.seed(0)\n",
        "print(\"동전을 한 번 뒤집어봅니다.\")\n",
        "coin_flip = np.random.binomial(1, 0.7)\n",
        "print(f\"편향된 동전은 {'앞면' if coin_flip == 1 else '뒷면'}으로 떨어졌습니다.\")\n",
        "\n",
        "print(\"\\n동전을 열 번 뒤집어봅니다.\")\n",
        "number_coin_flips = 10\n",
        "head_count = np.random.binomial(number_coin_flips, .7)\n",
        "print((f\"{number_coin_flips}번의 편향된 동전 뒤집기 중 앞면은 \\\n",
        "{head_count}번 관측되었습니다.\"))"
      ]
    },
    {
      "cell_type": "markdown",
      "metadata": {
        "id": "XiXakCMWbnEO"
      },
      "source": [
        "## 3-8"
      ]
    },
    {
      "cell_type": "code",
      "execution_count": 118,
      "metadata": {
        "colab": {
          "base_uri": "https://localhost:8080/"
        },
        "id": "Hhl-6oTlVU0L",
        "outputId": "d30821c6-6fe1-4e7f-b99a-7abc30d7380d"
      },
      "outputs": [
        {
          "name": "stdout",
          "output_type": "stream",
          "text": [
            "동전의 앞면이 관측된 빈도는 0.697 입니다\n"
          ]
        }
      ],
      "source": [
        "np.random.seed(0)\n",
        "head_count = np.random.binomial(1000, 0.7)\n",
        "frequency = head_count / 1000\n",
        "print(f\"동전의 앞면이 관측된 빈도는 {frequency} 입니다\")"
      ]
    },
    {
      "cell_type": "markdown",
      "metadata": {
        "id": "GqW9VMvybn1c"
      },
      "source": [
        "## 3-9"
      ]
    },
    {
      "cell_type": "code",
      "execution_count": 119,
      "metadata": {
        "colab": {
          "base_uri": "https://localhost:8080/"
        },
        "id": "UKsJ3_rOea8t",
        "outputId": "a20e9d73-e123-435e-d613-97694619e978"
      },
      "outputs": [
        {
          "name": "stdout",
          "output_type": "stream",
          "text": [
            "1 번째 반복에서의 빈도는 0.69 입니다\n",
            "2 번째 반복에서의 빈도는 0.7 입니다\n",
            "빈도와 실제 확률이 일치합니다!\n",
            "\n",
            "3 번째 반복에서의 빈도는 0.707 입니다\n",
            "4 번째 반복에서의 빈도는 0.702 입니다\n",
            "5 번째 반복에서의 빈도는 0.699 입니다\n"
          ]
        }
      ],
      "source": [
        "np.random.seed(0)\n",
        "assert np.random.binomial(1000, 0.7) / 1000 == 0.697\n",
        "for i in range(1, 6):\n",
        "  head_count = np.random.binomial(1000, 0.7)\n",
        "  frequency = head_count / 1000\n",
        "  print(f\"{i} 번째 반복에서의 빈도는 {frequency} 입니다\")\n",
        "  if frequency == 0.7:\n",
        "    print(\"빈도와 실제 확률이 일치합니다!\\n\")\n"
      ]
    },
    {
      "cell_type": "markdown",
      "metadata": {},
      "source": [
        "## 히스토그램과 넘파이 배열로 계산하는 신뢰 구간"
      ]
    },
    {
      "cell_type": "markdown",
      "metadata": {
        "id": "7eAcoW10bpRo"
      },
      "source": [
        "## 3-10"
      ]
    },
    {
      "cell_type": "code",
      "execution_count": 120,
      "metadata": {
        "id": "03PxY2o4frH9"
      },
      "outputs": [],
      "source": [
        "np.random.seed(0)\n",
        "head_count_list = [np.random.binomial(1000, 0.7) for _ in range(500)]"
      ]
    },
    {
      "cell_type": "markdown",
      "metadata": {
        "id": "X7iJaG9Bbq64"
      },
      "source": [
        "## 3-11"
      ]
    },
    {
      "cell_type": "code",
      "execution_count": 121,
      "metadata": {
        "id": "R5ikp75nAuFo"
      },
      "outputs": [],
      "source": [
        "np.random.seed(0)\n",
        "head_count_array = np.random.binomial(1000, 0.7, 500)"
      ]
    },
    {
      "cell_type": "markdown",
      "metadata": {
        "id": "76HmP0Gdbtp2"
      },
      "source": [
        "## 3-12"
      ]
    },
    {
      "cell_type": "code",
      "execution_count": 122,
      "metadata": {
        "id": "bFxtPCgnAxBy"
      },
      "outputs": [],
      "source": [
        "assert head_count_array.tolist() == head_count_list"
      ]
    },
    {
      "cell_type": "markdown",
      "metadata": {
        "id": "M2SG0FA_bwfn"
      },
      "source": [
        "## 3-13"
      ]
    },
    {
      "cell_type": "code",
      "execution_count": 123,
      "metadata": {
        "id": "Bq3TJIX8Ayt4"
      },
      "outputs": [],
      "source": [
        "new_array = np.array(head_count_list)\n",
        "assert np.array_equal(new_array, head_count_array) == True"
      ]
    },
    {
      "cell_type": "markdown",
      "metadata": {
        "id": "VBmEVlN-bxxI"
      },
      "source": [
        "## 3-14"
      ]
    },
    {
      "cell_type": "code",
      "execution_count": 124,
      "metadata": {
        "id": "yYe-h5KPA0Y9"
      },
      "outputs": [],
      "source": [
        "frequency_array = head_count_array / 1000\n",
        "assert frequency_array.tolist() == [head_count / 1000\n",
        "                                    for head_count in head_count_list]\n",
        "assert frequency_array.tolist() == list(map(lambda x: x / 1000, head_count_list))"
      ]
    },
    {
      "cell_type": "markdown",
      "metadata": {
        "id": "YYTLq-Gtb0Xj"
      },
      "source": [
        "## 3-15"
      ]
    },
    {
      "cell_type": "code",
      "execution_count": 125,
      "metadata": {
        "colab": {
          "base_uri": "https://localhost:8080/"
        },
        "id": "k0lt1SylA107",
        "outputId": "530d0561-c994-4a12-a930-9ce01c4ca2b1"
      },
      "outputs": [
        {
          "name": "stdout",
          "output_type": "stream",
          "text": [
            "[0.697 0.69  0.7   0.707 0.702 0.699 0.723 0.67  0.702 0.713 0.721 0.689\n",
            " 0.711 0.697 0.717 0.691 0.731 0.697 0.722 0.728]\n"
          ]
        }
      ],
      "source": [
        "print(frequency_array[:20])"
      ]
    },
    {
      "cell_type": "markdown",
      "metadata": {
        "id": "PJs0bi2Hb1D2"
      },
      "source": [
        "## 3-16"
      ]
    },
    {
      "cell_type": "code",
      "execution_count": 126,
      "metadata": {
        "colab": {
          "base_uri": "https://localhost:8080/"
        },
        "id": "4YwXemUSGa9Y",
        "outputId": "ca9b6e89-b758-43cb-b1a4-15f8ebe9caba"
      },
      "outputs": [
        {
          "name": "stdout",
          "output_type": "stream",
          "text": [
            "관측된 최소 빈도: 0.656\n",
            "관측된 최대 빈도: 0.733\n",
            "빈도의 범위: 0.07699999999999996\n"
          ]
        }
      ],
      "source": [
        "min_freq = frequency_array.min()\n",
        "max_freq = frequency_array.max()\n",
        "print(f\"관측된 최소 빈도: {min_freq}\")\n",
        "print(f\"관측된 최대 빈도: {max_freq}\")\n",
        "print(f\"빈도의 범위: {max_freq - min_freq}\")\n"
      ]
    },
    {
      "cell_type": "markdown",
      "metadata": {
        "id": "JiVFM6RFb1zN"
      },
      "source": [
        "## 3-17"
      ]
    },
    {
      "cell_type": "code",
      "execution_count": 127,
      "metadata": {
        "colab": {
          "base_uri": "https://localhost:8080/",
          "height": 473
        },
        "id": "H0WxCxPkHGxX",
        "outputId": "c4c98686-7181-45d4-cf90-dfbaac35ab31"
      },
      "outputs": [
        {
          "data": {
            "image/png": "[encoded data removed]",
            "text/plain": [
              "<Figure size 640x480 with 1 Axes>"
            ]
          },
          "metadata": {},
          "output_type": "display_data"
        }
      ],
      "source": [
        "from collections import defaultdict\n",
        "\n",
        "frequency_counts = defaultdict(int)\n",
        "for frequency in frequency_array:\n",
        "  frequency_counts[frequency] += 1\n",
        "\n",
        "frequencies = list(frequency_counts.keys())\n",
        "counts = [frequency_counts[freq] for freq in frequencies]\n",
        "\n",
        "plt.scatter(frequencies, counts)\n",
        "plt.xlabel('빈도')\n",
        "plt.ylabel('횟수')\n",
        "plt.show()\n"
      ]
    },
    {
      "cell_type": "markdown",
      "metadata": {
        "id": "NZjWjNGsb4lW"
      },
      "source": [
        "## 3-18"
      ]
    },
    {
      "cell_type": "code",
      "execution_count": 128,
      "metadata": {
        "colab": {
          "base_uri": "https://localhost:8080/",
          "height": 473
        },
        "id": "Xo56jKPJHRyP",
        "outputId": "82f8a483-651a-4859-df5d-077dcb95db2e"
      },
      "outputs": [
        {
          "data": {
            "image/png": "[encoded data removed]",
            "text/plain": [
              "<Figure size 640x480 with 1 Axes>"
            ]
          },
          "metadata": {},
          "output_type": "display_data"
        }
      ],
      "source": [
        "plt.hist(frequency_array, bins='auto', edgecolor='black')\n",
        "plt.xlabel('유사한 것들끼리 묶인 빈도')\n",
        "plt.ylabel('횟수')\n",
        "plt.show()"
      ]
    },
    {
      "cell_type": "markdown",
      "metadata": {
        "id": "0cP2-Rf0b6P2"
      },
      "source": [
        "## 3-19"
      ]
    },
    {
      "cell_type": "code",
      "execution_count": 129,
      "metadata": {
        "colab": {
          "base_uri": "https://localhost:8080/",
          "height": 460
        },
        "id": "g8LpaU8DPwKg",
        "outputId": "99e383de-68df-4b17-8819-c24ff0fbe420"
      },
      "outputs": [
        {
          "name": "stdout",
          "output_type": "stream",
          "text": [
            "빈의 개수: 16\n"
          ]
        },
        {
          "data": {
            "image/png": "[encoded data removed]",
            "text/plain": [
              "<Figure size 640x480 with 1 Axes>"
            ]
          },
          "metadata": {},
          "output_type": "display_data"
        }
      ],
      "source": [
        "counts, _, _ = plt.hist(frequency_array, bins='auto', edgecolor='black')\n",
        "\n",
        "print(f\"빈의 개수: {counts.size}\")"
      ]
    },
    {
      "cell_type": "markdown",
      "metadata": {
        "id": "7tfMqXWJb7vs"
      },
      "source": [
        "## 3-20"
      ]
    },
    {
      "cell_type": "code",
      "execution_count": 130,
      "metadata": {
        "colab": {
          "base_uri": "https://localhost:8080/",
          "height": 460
        },
        "id": "hrU8X63QP9cV",
        "outputId": "0c3cf7b3-192f-45b2-cdfb-ae55c98e4b0b"
      },
      "outputs": [
        {
          "name": "stdout",
          "output_type": "stream",
          "text": [
            "빈의 너비: 0.004812499999999997\n"
          ]
        },
        {
          "data": {
            "image/png": "[encoded data removed]",
            "text/plain": [
              "<Figure size 640x480 with 1 Axes>"
            ]
          },
          "metadata": {},
          "output_type": "display_data"
        }
      ],
      "source": [
        "counts, bin_edges, _ = plt.hist(frequency_array, bins='auto', edgecolor='black')\n",
        "\n",
        "bin_width = bin_edges[1] - bin_edges[0]\n",
        "assert bin_width == (max_freq - min_freq) / counts.size\n",
        "print(f\"빈의 너비: {bin_width}\")"
      ]
    },
    {
      "cell_type": "markdown",
      "metadata": {
        "id": "GjbcfSJdb9LY"
      },
      "source": [
        "## 3-21"
      ]
    },
    {
      "cell_type": "code",
      "execution_count": 131,
      "metadata": {
        "colab": {
          "base_uri": "https://localhost:8080/"
        },
        "id": "_07cF84JQBxx",
        "outputId": "49f07dcf-2f3e-4008-996d-327a08040793"
      },
      "outputs": [
        {
          "name": "stdout",
          "output_type": "stream",
          "text": [
            "빈도의 범위 0.656 - 0.6608125에 대한 빈은 1개의 요소를 포함합니다.\n",
            "빈도의 범위 0.6800625 - 0.684875에 대한 빈은 20개의 요소를 포함합니다.\n"
          ]
        }
      ],
      "source": [
        "def output_bin_coverage(i):\n",
        "  count = int(counts[i])\n",
        "  range_start, range_end = bin_edges[i], bin_edges[i+1]\n",
        "  range_string = f\"{range_start} - {range_end}\"\n",
        "  print((f\"빈도의 범위 {range_string}에 대한 빈은 \"\n",
        "  f\"{count}개의 요소를 포함합니다.\"))\n",
        "\n",
        "output_bin_coverage(0)\n",
        "output_bin_coverage(5)"
      ]
    },
    {
      "cell_type": "markdown",
      "metadata": {
        "id": "a048nyZSb-PU"
      },
      "source": [
        "## 3-22"
      ]
    },
    {
      "cell_type": "code",
      "execution_count": 132,
      "metadata": {
        "id": "jEtLH7FfQE7z"
      },
      "outputs": [],
      "source": [
        "assert counts[counts.argmax()] == counts.max()"
      ]
    },
    {
      "cell_type": "markdown",
      "metadata": {
        "id": "23uMeV7_b_BF"
      },
      "source": [
        "## 3-23"
      ]
    },
    {
      "cell_type": "code",
      "execution_count": 133,
      "metadata": {
        "colab": {
          "base_uri": "https://localhost:8080/"
        },
        "id": "y3eQPqiEQJYy",
        "outputId": "91f1f2de-c32f-41ab-8b4e-231b75dfc73d"
      },
      "outputs": [
        {
          "name": "stdout",
          "output_type": "stream",
          "text": [
            "빈도의 범위 0.6945 - 0.6993125에 대한 빈은 72개의 요소를 포함합니다.\n"
          ]
        }
      ],
      "source": [
        "output_bin_coverage(counts.argmax())"
      ]
    },
    {
      "cell_type": "markdown",
      "metadata": {
        "id": "Nj1gvop5cBHg"
      },
      "source": [
        "## 3-24"
      ]
    },
    {
      "cell_type": "code",
      "execution_count": 134,
      "metadata": {
        "colab": {
          "base_uri": "https://localhost:8080/",
          "height": 473
        },
        "id": "qMC8LGY2bQz-",
        "outputId": "8b35ca7c-6f0f-47ca-c78c-68f4d8773a64"
      },
      "outputs": [
        {
          "data": {
            "image/png": "[encoded data removed]",
            "text/plain": [
              "<Figure size 640x480 with 1 Axes>"
            ]
          },
          "metadata": {},
          "output_type": "display_data"
        }
      ],
      "source": [
        "likelihoods, bin_edges, _ = plt.hist(frequency_array, bins='auto',\n",
        "                                     edgecolor='black', density=True)\n",
        "\n",
        "plt.xlabel('빈도 구간')\n",
        "plt.ylabel('상대적 확률')\n",
        "plt.show()"
      ]
    },
    {
      "cell_type": "markdown",
      "metadata": {
        "id": "1n-XraElcDn2"
      },
      "source": [
        "## 3-25"
      ]
    },
    {
      "cell_type": "code",
      "execution_count": 135,
      "metadata": {
        "id": "CZXHWNRQbU_X"
      },
      "outputs": [],
      "source": [
        "assert likelihoods.sum() * bin_width == 1.0"
      ]
    },
    {
      "cell_type": "markdown",
      "metadata": {
        "id": "j1w0pzH_cG_f"
      },
      "source": [
        "## 3-26"
      ]
    },
    {
      "cell_type": "code",
      "execution_count": 136,
      "metadata": {
        "colab": {
          "base_uri": "https://localhost:8080/"
        },
        "id": "UlpRuBs3cGWi",
        "outputId": "96bbfbdd-ceff-4912-fa69-2188d2fda2f2"
      },
      "outputs": [
        {
          "name": "stdout",
          "output_type": "stream",
          "text": [
            "샘플링된 빈도가 0.6945 - 0.6993125 구간에 속할 확률은 0.144 입니다\n"
          ]
        }
      ],
      "source": [
        "index = likelihoods.argmax()\n",
        "area = likelihoods[index] * bin_width\n",
        "range_start, range_end = bin_edges[index], bin_edges[index+1]\n",
        "range_string = f\"{range_start} - {range_end}\"\n",
        "print(f\"샘플링된 빈도가 {range_string} 구간에 속할 확률은 {area} 입니다\")"
      ]
    },
    {
      "cell_type": "markdown",
      "metadata": {
        "id": "gAAlDxdMcLSg"
      },
      "source": [
        "## 3-27"
      ]
    },
    {
      "cell_type": "code",
      "execution_count": 137,
      "metadata": {
        "colab": {
          "base_uri": "https://localhost:8080/"
        },
        "id": "0mNA3ETUcJ4x",
        "outputId": "7515d52b-0ce6-4231-aeb8-940d16ad4f72"
      },
      "outputs": [
        {
          "name": "stdout",
          "output_type": "stream",
          "text": [
            "샘플링된 빈도가 0.6896875 - 0.704125 구간에 속할 확률은 0.464 입니다\n"
          ]
        }
      ],
      "source": [
        "peak_index = likelihoods.argmax()\n",
        "start_index, end_index = (peak_index-1, peak_index+2)\n",
        "area = likelihoods[start_index: end_index+1].sum() * bin_width\n",
        "range_start, range_end = bin_edges[start_index], bin_edges[end_index]\n",
        "range_string = f\"{range_start} - {range_end}\"\n",
        "print(f\"샘플링된 빈도가 {range_string} 구간에 속할 확률은 {area} 입니다\")"
      ]
    },
    {
      "cell_type": "markdown",
      "metadata": {
        "id": "4yM-LHVycPt1"
      },
      "source": [
        "## 3-28"
      ]
    },
    {
      "cell_type": "code",
      "execution_count": 138,
      "metadata": {
        "colab": {
          "base_uri": "https://localhost:8080/"
        },
        "id": "BaaMOUITcO4S",
        "outputId": "5979f234-946b-4e11-e004-2b10b03ae094"
      },
      "outputs": [
        {
          "name": "stdout",
          "output_type": "stream",
          "text": [
            "빈도 범위 0.670438 - 0.723375는 95.40% 신뢰 구간을 나타냅니다\n"
          ]
        },
        {
          "data": {
            "text/plain": [
              "(3, 14)"
            ]
          },
          "execution_count": 138,
          "metadata": {},
          "output_type": "execute_result"
        }
      ],
      "source": [
        "def compute_high_confidence_interval(likelihoods, bin_width):\n",
        "    peak_index = likelihoods.argmax()\n",
        "    area = likelihoods[peak_index] * bin_width\n",
        "    start_index, end_index = peak_index, peak_index + 1\n",
        "    while area < 0.95:\n",
        "        if start_index > 0:\n",
        "            start_index -= 1\n",
        "        if end_index < likelihoods.size - 1:\n",
        "            end_index += 1\n",
        "\n",
        "        area = likelihoods[start_index: end_index + 1].sum() * bin_width\n",
        "\n",
        "    range_start, range_end = bin_edges[start_index], bin_edges[end_index]\n",
        "    range_string = f\"{range_start:.6f} - {range_end:.6f}\"\n",
        "    print((f\"빈도 범위 {range_string}는 {100 * area:.2f}% 신뢰 구간을 나타냅니다\"))\n",
        "    return start_index, end_index\n",
        "\n",
        "compute_high_confidence_interval(likelihoods, bin_width)"
      ]
    },
    {
      "cell_type": "markdown",
      "metadata": {
        "id": "ucPMVQiucdq0"
      },
      "source": [
        "## 3-29"
      ]
    },
    {
      "cell_type": "code",
      "execution_count": 139,
      "metadata": {
        "id": "uXhYOW0bcZlP"
      },
      "outputs": [],
      "source": [
        "np.random.seed(0)\n",
        "head_count_array = np.random.binomial(1000, 0.7, 100000)\n",
        "frequency_array = head_count_array / 1000\n",
        "assert frequency_array.size == 100000"
      ]
    },
    {
      "cell_type": "markdown",
      "metadata": {
        "id": "rvQz8uoocdI-"
      },
      "source": [
        "## 3-30"
      ]
    },
    {
      "cell_type": "code",
      "execution_count": 140,
      "metadata": {
        "colab": {
          "base_uri": "https://localhost:8080/",
          "height": 491
        },
        "id": "gUM1YyqZcf7b",
        "outputId": "4d9214d8-1b94-4d94-b458-e2993d240c62"
      },
      "outputs": [
        {
          "name": "stdout",
          "output_type": "stream",
          "text": [
            "빈도 범위 0.670429 - 0.727857는 95.42% 신뢰 구간을 나타냅니다\n"
          ]
        },
        {
          "data": {
            "image/png": "[encoded data removed]",
            "text/plain": [
              "<Figure size 640x480 with 1 Axes>"
            ]
          },
          "metadata": {},
          "output_type": "display_data"
        }
      ],
      "source": [
        "likelihoods, bin_edges, patches = plt.hist(frequency_array, bins='auto',\n",
        "                                           edgecolor='black', density=True)\n",
        "\n",
        "bin_width = bin_edges[1] - bin_edges[0]\n",
        "start_index, end_index = compute_high_confidence_interval(likelihoods, bin_width)\n",
        "\n",
        "for i in range(start_index, end_index):\n",
        "    patches[i].set_facecolor('yellow')\n",
        "\n",
        "plt.xlabel('구간 빈도')\n",
        "plt.ylabel('상대적 확률')\n",
        "plt.show()"
      ]
    },
    {
      "cell_type": "markdown",
      "metadata": {
        "id": "84PABSYlcv6z"
      },
      "source": [
        "## 3-31"
      ]
    },
    {
      "cell_type": "code",
      "execution_count": 141,
      "metadata": {
        "colab": {
          "base_uri": "https://localhost:8080/",
          "height": 491
        },
        "id": "kS3Q208OcvSv",
        "outputId": "0dfcc4f1-3b53-4dc5-9cb8-9a28ffb5d72b"
      },
      "outputs": [
        {
          "name": "stdout",
          "output_type": "stream",
          "text": [
            "빈도 범위 0.695769 - 0.703708는 95.06% 신뢰 구간을 나타냅니다\n"
          ]
        },
        {
          "data": {
            "image/png": "[encoded data removed]",
            "text/plain": [
              "<Figure size 640x480 with 1 Axes>"
            ]
          },
          "metadata": {},
          "output_type": "display_data"
        }
      ],
      "source": [
        "np.random.seed(0)\n",
        "head_count_array = np.random.binomial(50000, 0.7, 100000)\n",
        "frequency_array = head_count_array / 50000\n",
        "\n",
        "likelihoods, bin_edges, patches = plt.hist(frequency_array, bins='auto', edgecolor='black', density=True)\n",
        "bin_width = bin_edges[1] - bin_edges[0]\n",
        "start_index, end_index = compute_high_confidence_interval(likelihoods, bin_width)\n",
        "\n",
        "for i in range(start_index, end_index):\n",
        "    patches[i].set_facecolor('yellow')\n",
        "\n",
        "plt.xlabel('구간 빈도')\n",
        "plt.ylabel('상대적 확률')\n",
        "plt.show()"
      ]
    },
    {
      "cell_type": "markdown",
      "metadata": {
        "id": "65YzNMoDc2yJ"
      },
      "source": [
        "## 3-32"
      ]
    },
    {
      "cell_type": "code",
      "execution_count": 142,
      "metadata": {
        "colab": {
          "base_uri": "https://localhost:8080/"
        },
        "id": "Iw6y_1qtcsHj",
        "outputId": "f84c9f88-1e21-46ab-bc36-3dcdc06ec8ee"
      },
      "outputs": [
        {
          "name": "stdout",
          "output_type": "stream",
          "text": [
            "빈도 범위 0.695769 - 0.703708는 95.06% 신뢰 구간을 나타냅니다\n"
          ]
        },
        {
          "data": {
            "text/plain": [
              "(47, 114)"
            ]
          },
          "execution_count": 142,
          "metadata": {},
          "output_type": "execute_result"
        }
      ],
      "source": [
        "np.random.seed(0)\n",
        "likelihoods, bin_edges = np.histogram(frequency_array, bins='auto', density=True)\n",
        "bin_width = bin_edges[1] - bin_edges[0]\n",
        "compute_high_confidence_interval(likelihoods, bin_width)"
      ]
    },
    {
      "cell_type": "markdown",
      "metadata": {},
      "source": [
        "## 신뢰 구간으로 편향된 카드 덱 분석하기"
      ]
    },
    {
      "cell_type": "markdown",
      "metadata": {
        "id": "iburC-N-c_xs"
      },
      "source": [
        "## 3-33"
      ]
    },
    {
      "cell_type": "code",
      "execution_count": 143,
      "metadata": {
        "id": "G62OvFk2c80s"
      },
      "outputs": [],
      "source": [
        "np.random.seed(0)\n",
        "total_cards = 52\n",
        "red_card_count = np.random.randint(0, total_cards+1)"
      ]
    },
    {
      "cell_type": "markdown",
      "metadata": {
        "id": "xdRo3yaGdBdA"
      },
      "source": [
        "## 3-34"
      ]
    },
    {
      "cell_type": "code",
      "execution_count": 144,
      "metadata": {
        "id": "vs5GnxljdAxd"
      },
      "outputs": [],
      "source": [
        "black_card_count = total_cards - red_card_count\n",
        "assert black_card_count != red_card_count"
      ]
    },
    {
      "cell_type": "markdown",
      "metadata": {
        "id": "w1poH8JGdDrt"
      },
      "source": [
        "## 3-35"
      ]
    },
    {
      "cell_type": "code",
      "execution_count": 145,
      "metadata": {
        "id": "XoRo-q6MdOm7"
      },
      "outputs": [],
      "source": [
        "def get_matching_event(event_condition, sample_space):\n",
        "    return set([outcome for outcome in sample_space if event_condition(outcome)])\n",
        "\n",
        "def compute_event_probability(event_condition, generic_sample_space):\n",
        "    event = get_matching_event(event_condition, generic_sample_space)\n",
        "    if type(generic_sample_space) == type(set()):\n",
        "        return len(event) / len(generic_sample_space)\n",
        "\n",
        "    event_size = sum(generic_sample_space[outcome] for outcome in event)\n",
        "    return event_size / sum(generic_sample_space.values())"
      ]
    },
    {
      "cell_type": "code",
      "execution_count": 146,
      "metadata": {
        "id": "I-2qDGPWdDOo"
      },
      "outputs": [],
      "source": [
        "weighted_sample_space = {'red_card': red_card_count, 'black_card': black_card_count}\n",
        "prob_red = compute_event_probability(lambda x: x == 'red_card', weighted_sample_space)"
      ]
    },
    {
      "cell_type": "markdown",
      "metadata": {
        "id": "sWpBcCgudFwx"
      },
      "source": [
        "## 3-36"
      ]
    },
    {
      "cell_type": "code",
      "execution_count": 147,
      "metadata": {
        "id": "YAxdXm70dFMJ"
      },
      "outputs": [],
      "source": [
        "assert prob_red == red_card_count / total_cards"
      ]
    },
    {
      "cell_type": "markdown",
      "metadata": {
        "id": "pS2lst0EdpI4"
      },
      "source": [
        "## 3-37"
      ]
    },
    {
      "cell_type": "code",
      "execution_count": 148,
      "metadata": {
        "colab": {
          "base_uri": "https://localhost:8080/"
        },
        "id": "e51gvdfIdgHA",
        "outputId": "49e80852-bb8b-4836-b93e-1f21f67664fa"
      },
      "outputs": [
        {
          "name": "stdout",
          "output_type": "stream",
          "text": [
            "뒤섞인 카드 덱에서 꺼낸 첫 번째 카드는 red 입니다\n"
          ]
        }
      ],
      "source": [
        "np.random.seed(0)\n",
        "color = 'red' if np.random.binomial(1, prob_red) else 'black'\n",
        "print(f\"뒤섞인 카드 덱에서 꺼낸 첫 번째 카드는 {color} 입니다\")"
      ]
    },
    {
      "cell_type": "markdown",
      "metadata": {
        "id": "k1YLNvjidvZ7"
      },
      "source": [
        "## 3-38"
      ]
    },
    {
      "cell_type": "code",
      "execution_count": 149,
      "metadata": {
        "colab": {
          "base_uri": "https://localhost:8080/"
        },
        "id": "Z2RjMJWndtJp",
        "outputId": "7c93740a-35d1-44c4-c4e9-1978b6722d26"
      },
      "outputs": [
        {
          "name": "stdout",
          "output_type": "stream",
          "text": [
            "10번 카드를 뒤섞었을 때 8 번이 빨간색입니다\n"
          ]
        }
      ],
      "source": [
        "np.random.seed(0)\n",
        "red_count = np.random.binomial(10, prob_red)\n",
        "print(f\"10번 카드를 뒤섞었을 때 {red_count} 번이 빨간색입니다\")"
      ]
    },
    {
      "cell_type": "markdown",
      "metadata": {
        "id": "QLsqhci-dyRB"
      },
      "source": [
        "## 3-39"
      ]
    },
    {
      "cell_type": "code",
      "execution_count": 150,
      "metadata": {
        "colab": {
          "base_uri": "https://localhost:8080/"
        },
        "id": "rcpjc5i5dxrI",
        "outputId": "f867a3d8-ad7a-44bd-e361-3b3a271a471c"
      },
      "outputs": [
        {
          "name": "stdout",
          "output_type": "stream",
          "text": [
            "빈도 범위 0.842865 - 0.849139는 95.16% 신뢰 구간을 나타냅니다\n"
          ]
        }
      ],
      "source": [
        "np.random.seed(0)\n",
        "red_card_count_array = np.random.binomial(50000, prob_red, 100000)\n",
        "frequency_array = red_card_count_array / 50000\n",
        "\n",
        "likelihoods, bin_edges = np.histogram(frequency_array, bins='auto', density=True)\n",
        "bin_width = bin_edges[1] - bin_edges[0]\n",
        "start_index, end_index = compute_high_confidence_interval(likelihoods, bin_width)"
      ]
    },
    {
      "cell_type": "markdown",
      "metadata": {
        "id": "XaySpec8d7l5"
      },
      "source": [
        "## 3-40"
      ]
    },
    {
      "cell_type": "code",
      "execution_count": 151,
      "metadata": {
        "colab": {
          "base_uri": "https://localhost:8080/"
        },
        "id": "M2kGOztkd67Z",
        "outputId": "85d87a89-da59-4f87-bf4f-34fcd8d10e18"
      },
      "outputs": [
        {
          "name": "stdout",
          "output_type": "stream",
          "text": [
            "빨간색 카드 개수는 44와 44 사이입니다\n"
          ]
        }
      ],
      "source": [
        "range_start = round(0.842771 * total_cards)\n",
        "range_end = round(0.849139 * total_cards)\n",
        "print(f\"빨간색 카드 개수는 {range_start}와 {range_end} 사이입니다\")"
      ]
    },
    {
      "cell_type": "markdown",
      "metadata": {
        "id": "MTqjVbQCd-bJ"
      },
      "source": [
        "## 3-41"
      ]
    },
    {
      "cell_type": "code",
      "execution_count": 152,
      "metadata": {
        "colab": {
          "base_uri": "https://localhost:8080/"
        },
        "id": "vSlvpKYed91C",
        "outputId": "a2f426dd-3012-4533-beeb-e9b580ff52dd"
      },
      "outputs": [
        {
          "name": "stdout",
          "output_type": "stream",
          "text": [
            "맞췄습니다! 카드 덱에는 44장의 빨간색 카드가 들어 있습니다\n"
          ]
        }
      ],
      "source": [
        "if red_card_count == 44:\n",
        "    print('맞췄습니다! 카드 덱에는 44장의 빨간색 카드가 들어 있습니다')\n",
        "else:\n",
        "    print('저런! 샘플링 추정이 틀렸습니다')"
      ]
    },
    {
      "cell_type": "markdown",
      "metadata": {},
      "source": [
        "## 순열로 카드 뒤섞기"
      ]
    },
    {
      "cell_type": "markdown",
      "metadata": {
        "id": "PfaCKfjPeEf9"
      },
      "source": [
        "## 3-42"
      ]
    },
    {
      "cell_type": "code",
      "execution_count": 153,
      "metadata": {
        "colab": {
          "base_uri": "https://localhost:8080/"
        },
        "id": "S-MbZmn3eD7w",
        "outputId": "34d963c8-054f-44a9-dbd8-00d3affd1a49"
      },
      "outputs": [
        {
          "name": "stdout",
          "output_type": "stream",
          "text": [
            "[0, 0, 1, 1]\n"
          ]
        }
      ],
      "source": [
        "np.random.seed(0)\n",
        "card_deck = [1, 1, 0, 0]\n",
        "np.random.shuffle(card_deck)\n",
        "print(card_deck)"
      ]
    },
    {
      "cell_type": "markdown",
      "metadata": {
        "id": "YXmae9b4essp"
      },
      "source": [
        "## 3-43"
      ]
    },
    {
      "cell_type": "code",
      "execution_count": 154,
      "metadata": {
        "colab": {
          "base_uri": "https://localhost:8080/"
        },
        "id": "bMI1lBmieqVE",
        "outputId": "45db6614-1aec-45b6-8fe4-d462ce195e63"
      },
      "outputs": [
        {
          "name": "stdout",
          "output_type": "stream",
          "text": [
            "[0 0 1 1]\n"
          ]
        }
      ],
      "source": [
        "np.random.seed(0)\n",
        "unshuffled_deck = [1, 1, 0, 0]\n",
        "shuffled_deck = np.random.permutation(unshuffled_deck)\n",
        "assert unshuffled_deck == [1, 1, 0, 0]\n",
        "print(shuffled_deck)"
      ]
    },
    {
      "cell_type": "markdown",
      "metadata": {
        "id": "fNsKlJaBeuJ5"
      },
      "source": [
        "## 3-44"
      ]
    },
    {
      "cell_type": "code",
      "execution_count": 155,
      "metadata": {
        "colab": {
          "base_uri": "https://localhost:8080/"
        },
        "id": "WOflAm0jetoN",
        "outputId": "a9831d8b-3889-46e9-9c7c-933e1645ba8e"
      },
      "outputs": [
        {
          "name": "stdout",
          "output_type": "stream",
          "text": [
            "(1, 1, 0, 0)\n",
            "(1, 1, 0, 0)\n",
            "(1, 0, 1, 0)\n"
          ]
        }
      ],
      "source": [
        "import itertools\n",
        "for permutation in list(itertools.permutations(unshuffled_deck))[:3]:\n",
        "    print(permutation)"
      ]
    },
    {
      "cell_type": "markdown",
      "metadata": {
        "id": "K96K8g4MezKO"
      },
      "source": [
        "## 3-45"
      ]
    },
    {
      "cell_type": "code",
      "execution_count": 156,
      "metadata": {
        "colab": {
          "base_uri": "https://localhost:8080/"
        },
        "id": "saB0JzQSeym4",
        "outputId": "025a5ffc-f466-4990-91d6-dd40e930ac8e"
      },
      "outputs": [
        {
          "name": "stdout",
          "output_type": "stream",
          "text": [
            "(0, 1, 2, 3)\n",
            "(0, 1, 3, 2)\n",
            "(0, 2, 1, 3)\n"
          ]
        }
      ],
      "source": [
        "for permutation in list(itertools.permutations([0, 1, 2, 3]))[:3]:\n",
        "    print(permutation)"
      ]
    },
    {
      "cell_type": "markdown",
      "metadata": {
        "id": "j1xOgZgOe29M"
      },
      "source": [
        "## 3-46"
      ]
    },
    {
      "cell_type": "code",
      "execution_count": 157,
      "metadata": {
        "colab": {
          "base_uri": "https://localhost:8080/"
        },
        "id": "vKV97tzve2JH",
        "outputId": "2bf2b663-ad82-4d26-d07d-bb4a2539b054"
      },
      "outputs": [
        {
          "name": "stdout",
          "output_type": "stream",
          "text": [
            "순열 (1, 1, 0, 0)은 4번 발생합니다\n",
            "순열 (1, 0, 1, 0)은 4번 발생합니다\n",
            "순열 (1, 0, 0, 1)은 4번 발생합니다\n",
            "순열 (0, 1, 1, 0)은 4번 발생합니다\n",
            "순열 (0, 1, 0, 1)은 4번 발생합니다\n",
            "순열 (0, 0, 1, 1)은 4번 발생합니다\n"
          ]
        }
      ],
      "source": [
        "weighted_sample_space = defaultdict(int)\n",
        "for permutation in itertools.permutations(unshuffled_deck):\n",
        "    weighted_sample_space[permutation] += 1\n",
        "\n",
        "for permutation, count in weighted_sample_space.items():\n",
        "    print(f\"순열 {permutation}은 {count}번 발생합니다\")"
      ]
    },
    {
      "cell_type": "markdown",
      "metadata": {
        "id": "6pm8EZCIfMU9"
      },
      "source": [
        "## 3-47"
      ]
    },
    {
      "cell_type": "code",
      "execution_count": 158,
      "metadata": {
        "colab": {
          "base_uri": "https://localhost:8080/"
        },
        "id": "hRDSaYoRfCUN",
        "outputId": "9037967b-f12f-40a3-a997-c83810dd8aa2"
      },
      "outputs": [
        {
          "name": "stdout",
          "output_type": "stream",
          "text": [
            "해당 뒤섞기 작업이 카드 덱을 변경하지 않을 확률은 0.16666666666666666 입니다.\n"
          ]
        }
      ],
      "source": [
        "sample_space = set(itertools.permutations(unshuffled_deck))\n",
        "event_condition = lambda x: list(x) == unshuffled_deck\n",
        "prob = compute_event_probability(event_condition, sample_space)\n",
        "assert prob == 1 / len(sample_space)\n",
        "print(f\"해당 뒤섞기 작업이 카드 덱을 변경하지 않을 확률은 {prob} 입니다.\")"
      ]
    },
    {
      "cell_type": "markdown",
      "metadata": {
        "id": "RgeNPbwJfhsI"
      },
      "source": [
        "## 3-48"
      ]
    },
    {
      "cell_type": "code",
      "execution_count": 159,
      "metadata": {
        "colab": {
          "base_uri": "https://localhost:8080/"
        },
        "id": "e2AtdDfnfZ72",
        "outputId": "1aa82348-0bb2-49ec-ef27-5b4240273ddc"
      },
      "outputs": [
        {
          "name": "stdout",
          "output_type": "stream",
          "text": [
            "10 장의 카드로 구성된 카드 덱의 표본 공간에는 252개의 요소가 존재합니다\n"
          ]
        }
      ],
      "source": [
        "red_cards = 5 * [1]\n",
        "black_cards = 5 * [0]\n",
        "unshuffled_deck = red_cards + black_cards\n",
        "sample_space = set(itertools.permutations(unshuffled_deck))\n",
        "print(f\"10 장의 카드로 구성된 카드 덱의 표본 공간에는 {len(sample_space)}개의 요소가 존재합니다\")"
      ]
    }
  ],
  "metadata": {
    "colab": {
      "include_colab_link": true,
      "provenance": []
    },
    "kernelspec": {
      "display_name": "py38_env",
      "language": "python",
      "name": "py38_env"
    },
    "language_info": {
      "codemirror_mode": {
        "name": "ipython",
        "version": 3
      },
      "file_extension": ".py",
      "mimetype": "text/x-python",
      "name": "python",
      "nbconvert_exporter": "python",
      "pygments_lexer": "ipython3",
      "version": "3.9.13"
    }
  },
  "nbformat": 4,
  "nbformat_minor": 0
}
