{
 "cells": [
  {
   "cell_type": "markdown",
   "id": "154c25a3",
   "metadata": {},
   "source": [
    "# 1장 파이썬으로 확률을 계산하는 방법\n",
    "## 1.1 표본 공간 분석: 방정식 없이 결과의 불확실성을 측정하는 접근법"
   ]
  },
  {
   "cell_type": "code",
   "execution_count": 1,
   "id": "9f6f863a",
   "metadata": {},
   "outputs": [],
   "source": [
    "# 코드 1-1 동전 뒤집기에 대한 표본 공간 생성하기\n",
    "sample_space = {'앞면', '뒷면'}"
   ]
  },
  {
   "cell_type": "code",
   "execution_count": 2,
   "id": "72a31a7f",
   "metadata": {},
   "outputs": [
    {
     "name": "stdout",
     "output_type": "stream",
     "text": [
      "앞면이 선택될 확률은 0.5입니다\n"
     ]
    }
   ],
   "source": [
    "# 코드 1-2 동전 앞면이 나올 확률 계산하기\n",
    "probability_heads = 1 / len(sample_space)\n",
    "print(f'앞면이 선택될 확률은 {probability_heads}입니다')"
   ]
  },
  {
   "cell_type": "code",
   "execution_count": 3,
   "id": "fca383eb",
   "metadata": {},
   "outputs": [],
   "source": [
    "# 코드 1-3 사전 조건 정의하기\n",
    "def is_heads_or_tails(outcome): return outcome in {'앞면', '뒷면'}\n",
    "def is_neither(outcome): return not is_heads_or_tails(outcome)"
   ]
  },
  {
   "cell_type": "code",
   "execution_count": 4,
   "id": "da776809",
   "metadata": {},
   "outputs": [],
   "source": [
    "# 코드 1-4 추가적인 사건 조건 정의하기\n",
    "def is_heads(outcome): return outcome == '앞면'\n",
    "def is_tails(outcome): return outcome == '뒷면'"
   ]
  },
  {
   "cell_type": "code",
   "execution_count": 5,
   "id": "a3e287d7",
   "metadata": {},
   "outputs": [],
   "source": [
    "# 코드 1-5 사건을 감지하는 함수 정의하기\n",
    "def get_matching_event(event_condition, sample_space) :\n",
    "    return set([outcome for outcome in sample_space\n",
    "               if event_condition(outcome)])"
   ]
  },
  {
   "cell_type": "code",
   "execution_count": 6,
   "id": "cce6c4c1",
   "metadata": {},
   "outputs": [
    {
     "name": "stdout",
     "output_type": "stream",
     "text": [
      "사건 조건: is_heads_or_tails\n",
      "사건: {'뒷면', '앞면'}\n",
      "\n",
      "사건 조건: is_heads\n",
      "사건: {'앞면'}\n",
      "\n",
      "사건 조건: is_tails\n",
      "사건: {'뒷면'}\n",
      "\n",
      "사건 조건: is_neither\n",
      "사건: set()\n",
      "\n"
     ]
    }
   ],
   "source": [
    "# 코드 1-6 사건 조건으로 사건 감지하기\n",
    "event_conditions = [is_heads_or_tails, is_heads, is_tails, is_neither]\n",
    "\n",
    "for event_condition in event_conditions:\n",
    "    print(f'사건 조건: {event_condition.__name__}')\n",
    "    event = get_matching_event(event_condition, sample_space)\n",
    "    print(f'사건: {event}\\n')"
   ]
  },
  {
   "cell_type": "code",
   "execution_count": 10,
   "id": "a265993d",
   "metadata": {},
   "outputs": [
    {
     "name": "stdout",
     "output_type": "stream",
     "text": [
      "is_heads_or_tails에서 발생한 사건의 확률은 1.0입니다\n",
      "is_heads에서 발생한 사건의 확률은 0.5입니다\n",
      "is_tails에서 발생한 사건의 확률은 0.5입니다\n",
      "is_neither에서 발생한 사건의 확률은 0.0입니다\n"
     ]
    }
   ],
   "source": [
    "# 코드 1-7 사건 확률 계산하기\n",
    "def compute_probability(event_condition, generic_sample_space):\n",
    "    event = get_matching_event(event_condition, generic_sample_space)\n",
    "    return len(event) / len(generic_sample_space)\n",
    "\n",
    "for event_condition in event_conditions:\n",
    "    prob = compute_probability(event_condition, sample_space)\n",
    "    name = event_condition.__name__\n",
    "    print(f'{name}에서 발생한 사건의 확률은 {prob}입니다')"
   ]
  },
  {
   "cell_type": "code",
   "execution_count": 12,
   "id": "2ae5b934",
   "metadata": {},
   "outputs": [],
   "source": [
    "# 코드 1-8 가중된 표본 공간 표현하기\n",
    "weighted_sample_space = {'Heads': 4, 'Tails': 1}"
   ]
  },
  {
   "cell_type": "code",
   "execution_count": 13,
   "id": "ee0ccc43",
   "metadata": {},
   "outputs": [],
   "source": [
    "# 코드 1-9 가중된 표본 공간의 크기 확인하기\n",
    "sample_space_size = sum(weighted_sample_space.values())\n",
    "assert sample_space_size == 5"
   ]
  },
  {
   "cell_type": "code",
   "execution_count": 14,
   "id": "128c461f",
   "metadata": {},
   "outputs": [
    {
     "ename": "AssertionError",
     "evalue": "",
     "output_type": "error",
     "traceback": [
      "\u001b[1;31m---------------------------------------------------------------------------\u001b[0m",
      "\u001b[1;31mAssertionError\u001b[0m                            Traceback (most recent call last)",
      "Input \u001b[1;32mIn [14]\u001b[0m, in \u001b[0;36m<cell line: 4>\u001b[1;34m()\u001b[0m\n\u001b[0;32m      2\u001b[0m event \u001b[38;5;241m=\u001b[39m get_matching_event(is_heads_or_tails, weighted_sample_space)\n\u001b[0;32m      3\u001b[0m event_size \u001b[38;5;241m=\u001b[39m \u001b[38;5;28msum\u001b[39m(weighted_sample_space[outcome] \u001b[38;5;28;01mfor\u001b[39;00m outcome \u001b[38;5;129;01min\u001b[39;00m event)\n\u001b[1;32m----> 4\u001b[0m \u001b[38;5;28;01massert\u001b[39;00m event_size \u001b[38;5;241m==\u001b[39m \u001b[38;5;241m5\u001b[39m\n",
      "\u001b[1;31mAssertionError\u001b[0m: "
     ]
    }
   ],
   "source": [
    "# 코드 1-10 가중된 사건의 크기 확인하기\n",
    "event = get_matching_event(is_heads_or_tails, weighted_sample_space)\n",
    "event_size = sum(weighted_sample_space[outcome] for outcome in event)\n",
    "assert event_size == 5"
   ]
  },
  {
   "cell_type": "code",
   "execution_count": 18,
   "id": "3103749f",
   "metadata": {},
   "outputs": [],
   "source": [
    "# 코드 1-11 일반화된 사건 확률 함수 정의하기\n",
    "def compute_event_probability(event_condition, generic_sample_space):\n",
    "    event = get_matching_event(event_condition, generic_sample_space)\n",
    "    if type(generic_sample_space) == type(set()):\n",
    "        return len(event) / len(generic_sample_space)\n",
    "    \n",
    "    event_size = sum(generic_sample_space[outcome] for outcome in event)\n",
    "    return event_size / sum(generic_sample_space.values())"
   ]
  },
  {
   "cell_type": "code",
   "execution_count": 19,
   "id": "b6789970",
   "metadata": {},
   "outputs": [
    {
     "name": "stdout",
     "output_type": "stream",
     "text": [
      "is_heads_or_tails에서 발생한 사건의 확률은 0.0입니다\n",
      "is_heads에서 발생한 사건의 확률은 0.0입니다\n",
      "is_tails에서 발생한 사건의 확률은 0.0입니다\n",
      "is_neither에서 발생한 사건의 확률은 1.0입니다\n"
     ]
    }
   ],
   "source": [
    "# 코드 1-12 가중된 사건 확률 계산하기\n",
    "for event_condition in event_conditions:\n",
    "    prob = compute_event_probability(event_condition, weighted_sample_space)\n",
    "    name = event_condition.__name__\n",
    "    print(f'{name}에서 발생한 사건의 확률은 {prob}입니다')"
   ]
  },
  {
   "cell_type": "markdown",
   "id": "a49ce65d",
   "metadata": {},
   "source": [
    "## 1.2 사소한 확률 계산 문제\n",
    "### 1.2.1 문제 1: 네 자녀를 둔 가족 분석하기"
   ]
  },
  {
   "cell_type": "code",
   "execution_count": 20,
   "id": "accf8732",
   "metadata": {},
   "outputs": [],
   "source": [
    "# 코드 1-13 자녀에 대한 표본공간 계산하기\n",
    "possible_children = ['Boy', 'Girl']\n",
    "sample_space = set()\n",
    "for child1 in possible_children:\n",
    "    for child2 in possible_children:\n",
    "        for child3 in possible_children:\n",
    "            for child4 in possible_children:\n",
    "                outcome = (child1, child2, child3, child4)\n",
    "                sample_space.add(outcome)"
   ]
  },
  {
   "cell_type": "code",
   "execution_count": 21,
   "id": "31af3e48",
   "metadata": {},
   "outputs": [],
   "source": [
    "# 코드 1-14 product를 사용한 표본 공간 계산하기\n",
    "from itertools import product\n",
    "all_combinations = product(*(4*[possible_children]))\n",
    "assert set(all_combinations) == sample_space"
   ]
  },
  {
   "cell_type": "code",
   "execution_count": 23,
   "id": "ce69a0a9",
   "metadata": {},
   "outputs": [],
   "source": [
    "# 코드 1-15 produck 함수에 매개변수 repeat 값 할당하기\n",
    "sample_space_efficient = set(product(possible_children, repeat=4))\n",
    "assert sample_space == sample_space_efficient"
   ]
  },
  {
   "cell_type": "code",
   "execution_count": 24,
   "id": "d1623cda",
   "metadata": {},
   "outputs": [
    {
     "name": "stdout",
     "output_type": "stream",
     "text": [
      "남아 두 명이 포함되었을 확률은 0.375입니다\n"
     ]
    }
   ],
   "source": [
    "# 코드 1-16 두 명이 남아일 확률 계산하기\n",
    "def has_two_boys(outcome): return len([child for child in outcome\n",
    "                                      if child == 'Boy']) == 2\n",
    "prob = compute_event_probability(has_two_boys, sample_space)\n",
    "print(f'남아 두 명이 포함되었을 확률은 {prob}입니다')"
   ]
  },
  {
   "cell_type": "markdown",
   "id": "ac33710a",
   "metadata": {},
   "source": [
    "### 1.2.2 문제 2: 다면체 주사위를 굴렸을 때 분석하기"
   ]
  },
  {
   "cell_type": "code",
   "execution_count": 25,
   "id": "b5af046a",
   "metadata": {},
   "outputs": [
    {
     "name": "stdout",
     "output_type": "stream",
     "text": [
      "[1, 2, 3, 4, 5, 6]\n"
     ]
    }
   ],
   "source": [
    "# 코드 1-17 육면체 주사위를 굴렸을 때 얻을 수 있는 값 정의하기\n",
    "possible_rolls = list(range(1, 7))\n",
    "print(possible_rolls)"
   ]
  },
  {
   "cell_type": "code",
   "execution_count": 27,
   "id": "363070e1",
   "metadata": {},
   "outputs": [],
   "source": [
    "# 코드 1-18 주사위를 연속으로 6번 굴렸을 때에 대한 표본 공간\n",
    "sample_space = set(product(possible_rolls, repeat=6))"
   ]
  },
  {
   "cell_type": "code",
   "execution_count": 28,
   "id": "33269145",
   "metadata": {},
   "outputs": [
    {
     "name": "stdout",
     "output_type": "stream",
     "text": [
      "6번 주사위를 굴린 결과의 합이 21일 확률은 0.09284979423868313입니다\n"
     ]
    }
   ],
   "source": [
    "# 코드 1-19 주사위를 굴린 합에 대한 확률 계산하기\n",
    "def has_sum_of_21(outcome): return sum(outcome) == 21\n",
    "prob = compute_event_probability(has_sum_of_21, sample_space)\n",
    "print(f'6번 주사위를 굴린 결과의 합이 21일 확률은 {prob}입니다')"
   ]
  },
  {
   "cell_type": "code",
   "execution_count": 29,
   "id": "00472f6d",
   "metadata": {},
   "outputs": [],
   "source": [
    "# 코드1-20 람다 표현식으로 확률 계산하기\n",
    "prob = compute_event_probability(lambda x: sum(x) == 21, sample_space)\n",
    "assert prob == compute_event_probability(has_sum_of_21, sample_space)"
   ]
  },
  {
   "cell_type": "markdown",
   "id": "09aacf91",
   "metadata": {},
   "source": [
    "### 1.2.3 문제 3: 가중된 표본 공간으로 주사위를 굴렸을 때 확률 계산하기"
   ]
  },
  {
   "cell_type": "code",
   "execution_count": 30,
   "id": "4bc37d84",
   "metadata": {},
   "outputs": [],
   "source": [
    "# 코드 1-21 주사위 굴림의 합계별 등장 횟수 매핑하기\n",
    "from collections import defaultdict\n",
    "weighted_sample_space = defaultdict(int)\n",
    "for outcome in sample_space:\n",
    "    total = sum(outcome)\n",
    "    weighted_sample_space[total] += 1"
   ]
  },
  {
   "cell_type": "code",
   "execution_count": 31,
   "id": "73a6e82c",
   "metadata": {},
   "outputs": [],
   "source": [
    "# 코드 1-22 매우 드문 주사위 굴림의 조합 확인하기\n",
    "assert weighted_sample_space[6] == 1\n",
    "assert weighted_sample_space[36] == 1"
   ]
  },
  {
   "cell_type": "code",
   "execution_count": 32,
   "id": "f2a9ba8c",
   "metadata": {},
   "outputs": [
    {
     "name": "stdout",
     "output_type": "stream",
     "text": [
      "주사위를 6번 굴렸을 때의 합계가 21이 될 수 있는 조합 개수는 4332입니다\n"
     ]
    }
   ],
   "source": [
    "# 코드 1-23 좀 더 흔한 주사위 굴림의 조합 확인하기\n",
    "num_combinations = weighted_sample_space[21]\n",
    "print(f'주사위를 6번 굴렸을 때의 합계가 21이 될 수 있는 조합 개수는 {num_combinations}입니다')"
   ]
  },
  {
   "cell_type": "code",
   "execution_count": 33,
   "id": "fb708690",
   "metadata": {},
   "outputs": [],
   "source": [
    "# 코드 1-24 합계가 21이 될 수 있는 경우 탐색하기\n",
    "assert sum([4, 4, 4, 4, 3, 2]) == 21\n",
    "assert sum([4, 4, 4, 5, 3, 1]) == 21"
   ]
  },
  {
   "cell_type": "code",
   "execution_count": 35,
   "id": "d4ac6c80",
   "metadata": {},
   "outputs": [],
   "source": [
    "# 코드 1-25 가중된 사건과 그렇지 않은 사건 비교하기\n",
    "event = get_matching_event(lambda x: sum(x) == 21, sample_space)\n",
    "assert weighted_sample_space[21] == len(event)\n",
    "assert sum(weighted_sample_space.values()) == len(sample_space)"
   ]
  },
  {
   "cell_type": "code",
   "execution_count": 36,
   "id": "b0930b27",
   "metadata": {},
   "outputs": [
    {
     "name": "stdout",
     "output_type": "stream",
     "text": [
      "주사위를 6번 굴렸을 때의 합계가 21이 될 확률은 0.09284979423868313입니다\n"
     ]
    }
   ],
   "source": [
    "# 코드 1-26 가중된 사건의 확률 계산하기\n",
    "prob = compute_event_probability(lambda x: x == 21, weighted_sample_space)\n",
    "assert prob == compute_event_probability(has_sum_of_21, sample_space)\n",
    "print(f'주사위를 6번 굴렸을 때의 합계가 21이 될 확률은 {prob}입니다')"
   ]
  },
  {
   "cell_type": "code",
   "execution_count": 37,
   "id": "e8d99940",
   "metadata": {},
   "outputs": [
    {
     "name": "stdout",
     "output_type": "stream",
     "text": [
      "가중되지 않은 표본 공간 내 요소 개수:\n",
      "46656\n",
      "가중된 표본공간 내 요소 개수:\n",
      "31\n"
     ]
    }
   ],
   "source": [
    "# 코드 1-27 가중되지 않은 사건 공간과 가중된 사건 공간의 크기 비교하기\n",
    "print('가중되지 않은 표본 공간 내 요소 개수:')\n",
    "print(len(sample_space))\n",
    "print('가중된 표본공간 내 요소 개수:')\n",
    "print(len(weighted_sample_space))"
   ]
  },
  {
   "cell_type": "markdown",
   "id": "842c84c4",
   "metadata": {},
   "source": [
    "## 1.3 구간에 대한 확률 계산"
   ]
  },
  {
   "cell_type": "code",
   "execution_count": 38,
   "id": "b52cda26",
   "metadata": {},
   "outputs": [],
   "source": [
    "# 코드 1-28 구간 함수 정의하기\n",
    "def is_in_interval(number, minimum, maximum):\n",
    "    return minimum <= number <= maximum"
   ]
  },
  {
   "cell_type": "code",
   "execution_count": 40,
   "id": "e583cb0d",
   "metadata": {},
   "outputs": [
    {
     "name": "stdout",
     "output_type": "stream",
     "text": [
      "구간에 대한 확률은 0.5446244855967078입니다\n"
     ]
    }
   ],
   "source": [
    "# 코드 1-29 구간에 대한 확률 계산하기\n",
    "prob = compute_event_probability(lambda x: is_in_interval(x, 10, 21),\n",
    "                                weighted_sample_space)\n",
    "print(f'구간에 대한 확률은 {prob}입니다')"
   ]
  },
  {
   "cell_type": "markdown",
   "id": "e4cb11c1",
   "metadata": {},
   "source": [
    "### 1.3.1 구간 분석법으로 극단 평가"
   ]
  },
  {
   "cell_type": "code",
   "execution_count": 47,
   "id": "1d253fcf",
   "metadata": {},
   "outputs": [],
   "source": [
    "# 코드 1-30 동전 뒤집기 10번에 대한 표본 공간 계산하기\n",
    "def generate_coin_sample_space(num_flips=10):\n",
    "    weighted_sample_space = defaultdict(int)\n",
    "    for coin_flips in product(['Heads', 'Tails'], repeat=num_flips):\n",
    "        heads_count = len([outcome for outcome in coin_flips\n",
    "                              if outcome == 'Heads'])\n",
    "        weighted_sample_space[heads_count] += 1\n",
    "    return weighted_sample_space\n",
    "    \n",
    "weighted_sample_space = generate_coin_sample_space()\n",
    "assert weighted_sample_space[10] == 1\n",
    "assert weighted_sample_space[9] == 10"
   ]
  },
  {
   "cell_type": "code",
   "execution_count": 48,
   "id": "419bf65d",
   "metadata": {},
   "outputs": [
    {
     "name": "stdout",
     "output_type": "stream",
     "text": [
      "앞면이 7번보다 많이 관측될 확률은 0.0546875입니다\n"
     ]
    }
   ],
   "source": [
    "# 코드 1-31 극단적으로 앞면이 많이 나타날 확률 계산하기\n",
    "prob = compute_event_probability(lambda x: is_in_interval(x, 8, 10),\n",
    "                                weighted_sample_space)\n",
    "print(f'앞면이 7번보다 많이 관측될 확률은 {prob}입니다')"
   ]
  },
  {
   "cell_type": "code",
   "execution_count": 49,
   "id": "e3f60563",
   "metadata": {},
   "outputs": [
    {
     "name": "stdout",
     "output_type": "stream",
     "text": [
      "앞면 또는 뒷면이 7번보다 많이 관측될 확률은 0.109375입니다\n"
     ]
    }
   ],
   "source": [
    "# 코드 1-32 극단적인 구간 확률 계산하기\n",
    "prob = compute_event_probability(lambda x: not is_in_interval(x, 3, 7),\n",
    "                                weighted_sample_space)\n",
    "print(f'앞면 또는 뒷면이 7번보다 많이 관측될 확률은 {prob}입니다')"
   ]
  },
  {
   "cell_type": "code",
   "execution_count": 51,
   "id": "54db6ce1",
   "metadata": {},
   "outputs": [
    {
     "name": "stdout",
     "output_type": "stream",
     "text": [
      "앞면 또는 뒷면이 15번보다 많이 관측될 확률은 0.01181793212890625입니다\n"
     ]
    }
   ],
   "source": [
    "# 코드 1-33 동전 뒤집기 20번에서 앞면이 극단적으로 많이 나타나는 경우 분석하기\n",
    "weighted_sample_space_20_flips = generate_coin_sample_space(num_flips=20)\n",
    "prob = compute_event_probability(lambda x: not is_in_interval(x, 5, 15),\n",
    "                                 weighted_sample_space_20_flips)\n",
    "print(f'앞면 또는 뒷면이 15번보다 많이 관측될 확률은 {prob}입니다')"
   ]
  },
  {
   "cell_type": "markdown",
   "id": "5e4e1d85",
   "metadata": {},
   "source": [
    "## 1.4 요약 \n",
    "* 표본 공간은 어떤 행동에 따라 관측될 수 있는 모든 가능한 결과 집합입니다.\n",
    "* 사건은 표본 공간 중 어떤 사건 조건을 만족하는 결과들의 부분 집합입니다. 사건 조건은 결과를 입력받아 참(True) 또는 거짓(False)을 반환하는 불리언 함수입니다.\n",
    "* 특정 사건의 확률은 전체 표본 공간의 모든 가능한 결과 중 해당 사건에 대한 부분과 같습니다.\n",
    "* 확률은 수치형 구간으로 계산될 수 있습니다. 간격은 두 경곗값 사이에 위치한 모든 값의 집합으로 정의될 수 있습니다.\n",
    "* 간격 확률은 관측된 결곽가 극단적 경우인지 정하는 데 유용합니다."
   ]
  }
 ],
 "metadata": {
  "kernelspec": {
   "display_name": "Python 3 (ipykernel)",
   "language": "python",
   "name": "python3"
  },
  "language_info": {
   "codemirror_mode": {
    "name": "ipython",
    "version": 3
   },
   "file_extension": ".py",
   "mimetype": "text/x-python",
   "name": "python",
   "nbconvert_exporter": "python",
   "pygments_lexer": "ipython3",
   "version": "3.9.12"
  }
 },
 "nbformat": 4,
 "nbformat_minor": 5
}
